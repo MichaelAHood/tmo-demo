{
 "cells": [
  {
   "cell_type": "code",
   "execution_count": 1,
   "metadata": {
    "collapsed": true
   },
   "outputs": [],
   "source": [
    "import pandas as pd\n",
    "import numpy as np"
   ]
  },
  {
   "cell_type": "code",
   "execution_count": 17,
   "metadata": {
    "collapsed": true
   },
   "outputs": [],
   "source": [
    "df = pd.read_csv(\"reference_table-128.csv\")\n",
    "df2 = pd.read_csv(\"reference_table-256.csv\")"
   ]
  },
  {
   "cell_type": "code",
   "execution_count": 7,
   "metadata": {
    "collapsed": false
   },
   "outputs": [],
   "source": [
    "pins = np.random.randint(1000, 9999, size=len(df))"
   ]
  },
  {
   "cell_type": "code",
   "execution_count": 8,
   "metadata": {
    "collapsed": false
   },
   "outputs": [
    {
     "data": {
      "text/html": [
       "<div>\n",
       "<table border=\"1\" class=\"dataframe\">\n",
       "  <thead>\n",
       "    <tr style=\"text-align: right;\">\n",
       "      <th></th>\n",
       "      <th>name</th>\n",
       "      <th>url</th>\n",
       "      <th>0</th>\n",
       "      <th>1</th>\n",
       "      <th>2</th>\n",
       "      <th>3</th>\n",
       "      <th>4</th>\n",
       "      <th>5</th>\n",
       "      <th>6</th>\n",
       "      <th>7</th>\n",
       "      <th>...</th>\n",
       "      <th>118</th>\n",
       "      <th>119</th>\n",
       "      <th>120</th>\n",
       "      <th>121</th>\n",
       "      <th>122</th>\n",
       "      <th>123</th>\n",
       "      <th>124</th>\n",
       "      <th>125</th>\n",
       "      <th>126</th>\n",
       "      <th>127</th>\n",
       "    </tr>\n",
       "  </thead>\n",
       "  <tbody>\n",
       "    <tr>\n",
       "      <th>15</th>\n",
       "      <td>Michael_Hood</td>\n",
       "      <td>https://www.linkedin.com/in/michaelahood/</td>\n",
       "      <td>0.104484</td>\n",
       "      <td>0.03215</td>\n",
       "      <td>0.043782</td>\n",
       "      <td>0.066376</td>\n",
       "      <td>0.054078</td>\n",
       "      <td>0.138499</td>\n",
       "      <td>-0.221438</td>\n",
       "      <td>0.114827</td>\n",
       "      <td>...</td>\n",
       "      <td>-0.044947</td>\n",
       "      <td>-0.036056</td>\n",
       "      <td>-0.002106</td>\n",
       "      <td>0.121578</td>\n",
       "      <td>-0.050939</td>\n",
       "      <td>0.024652</td>\n",
       "      <td>-0.043933</td>\n",
       "      <td>-0.055061</td>\n",
       "      <td>0.013266</td>\n",
       "      <td>-0.083067</td>\n",
       "    </tr>\n",
       "  </tbody>\n",
       "</table>\n",
       "<p>1 rows × 130 columns</p>\n",
       "</div>"
      ],
      "text/plain": [
       "            name                                        url         0  \\\n",
       "15  Michael_Hood  https://www.linkedin.com/in/michaelahood/  0.104484   \n",
       "\n",
       "          1         2         3         4         5         6         7  \\\n",
       "15  0.03215  0.043782  0.066376  0.054078  0.138499 -0.221438  0.114827   \n",
       "\n",
       "      ...          118       119       120       121       122       123  \\\n",
       "15    ...    -0.044947 -0.036056 -0.002106  0.121578 -0.050939  0.024652   \n",
       "\n",
       "         124       125       126       127  \n",
       "15 -0.043933 -0.055061  0.013266 -0.083067  \n",
       "\n",
       "[1 rows x 130 columns]"
      ]
     },
     "execution_count": 8,
     "metadata": {},
     "output_type": "execute_result"
    }
   ],
   "source": [
    "df[df.name == \"Michael_Hood\"]"
   ]
  },
  {
   "cell_type": "code",
   "execution_count": 9,
   "metadata": {
    "collapsed": true
   },
   "outputs": [],
   "source": [
    "pins[15] = 5110\n"
   ]
  },
  {
   "cell_type": "code",
   "execution_count": 10,
   "metadata": {
    "collapsed": false
   },
   "outputs": [
    {
     "data": {
      "text/plain": [
       "array([6397, 3350, 8840, 8319, 2534, 4122, 2414, 3745, 5621, 4553, 2511,\n",
       "       2339, 9952, 9029, 3510, 5110, 1260, 2702, 6910, 1662, 4766, 9133,\n",
       "       3362, 6772])"
      ]
     },
     "execution_count": 10,
     "metadata": {},
     "output_type": "execute_result"
    }
   ],
   "source": [
    "pins"
   ]
  },
  {
   "cell_type": "code",
   "execution_count": 42,
   "metadata": {
    "collapsed": true
   },
   "outputs": [],
   "source": [
    "df[\"pin\"] = pins\n",
    "df2[\"pin\"] = pins"
   ]
  },
  {
   "cell_type": "code",
   "execution_count": 26,
   "metadata": {
    "collapsed": false
   },
   "outputs": [],
   "source": [
    "df.to_csv(\"reference_table-128.csv\", index=False)\n"
   ]
  },
  {
   "cell_type": "code",
   "execution_count": 27,
   "metadata": {
    "collapsed": false
   },
   "outputs": [
    {
     "data": {
      "text/html": [
       "<div>\n",
       "<table border=\"1\" class=\"dataframe\">\n",
       "  <thead>\n",
       "    <tr style=\"text-align: right;\">\n",
       "      <th></th>\n",
       "      <th>name</th>\n",
       "      <th>url</th>\n",
       "      <th>0</th>\n",
       "      <th>1</th>\n",
       "      <th>2</th>\n",
       "      <th>3</th>\n",
       "      <th>4</th>\n",
       "      <th>5</th>\n",
       "      <th>6</th>\n",
       "      <th>7</th>\n",
       "      <th>...</th>\n",
       "      <th>120</th>\n",
       "      <th>121</th>\n",
       "      <th>122</th>\n",
       "      <th>123</th>\n",
       "      <th>124</th>\n",
       "      <th>125</th>\n",
       "      <th>126</th>\n",
       "      <th>127</th>\n",
       "      <th>pins</th>\n",
       "      <th>pin</th>\n",
       "    </tr>\n",
       "  </thead>\n",
       "  <tbody>\n",
       "    <tr>\n",
       "      <th>0</th>\n",
       "      <td>Arne_Klubberud</td>\n",
       "      <td>https://www.linkedin.com/in/arne-klubberud-665...</td>\n",
       "      <td>0.070484</td>\n",
       "      <td>-0.041177</td>\n",
       "      <td>0.069168</td>\n",
       "      <td>0.076272</td>\n",
       "      <td>0.137468</td>\n",
       "      <td>0.052626</td>\n",
       "      <td>0.024314</td>\n",
       "      <td>0.100133</td>\n",
       "      <td>...</td>\n",
       "      <td>-0.028250</td>\n",
       "      <td>0.141832</td>\n",
       "      <td>-0.183499</td>\n",
       "      <td>0.042752</td>\n",
       "      <td>0.033140</td>\n",
       "      <td>-0.054842</td>\n",
       "      <td>-0.080211</td>\n",
       "      <td>-0.045614</td>\n",
       "      <td>6397</td>\n",
       "      <td>6397</td>\n",
       "    </tr>\n",
       "    <tr>\n",
       "      <th>1</th>\n",
       "      <td>Blas_Yslas</td>\n",
       "      <td>https://www.linkedin.com/in/blas-yslas-a53373b/</td>\n",
       "      <td>-0.104493</td>\n",
       "      <td>0.048320</td>\n",
       "      <td>-0.071764</td>\n",
       "      <td>0.035950</td>\n",
       "      <td>0.001496</td>\n",
       "      <td>0.114856</td>\n",
       "      <td>-0.115042</td>\n",
       "      <td>0.052725</td>\n",
       "      <td>...</td>\n",
       "      <td>0.002123</td>\n",
       "      <td>0.042748</td>\n",
       "      <td>0.006790</td>\n",
       "      <td>-0.083624</td>\n",
       "      <td>-0.080102</td>\n",
       "      <td>0.064649</td>\n",
       "      <td>-0.017459</td>\n",
       "      <td>0.050484</td>\n",
       "      <td>3350</td>\n",
       "      <td>3350</td>\n",
       "    </tr>\n",
       "    <tr>\n",
       "      <th>2</th>\n",
       "      <td>Brooke_Coburn</td>\n",
       "      <td>https://www.linkedin.com/in/brooke-coburn-0886...</td>\n",
       "      <td>0.019926</td>\n",
       "      <td>-0.235171</td>\n",
       "      <td>-0.007148</td>\n",
       "      <td>0.153370</td>\n",
       "      <td>-0.057668</td>\n",
       "      <td>-0.109835</td>\n",
       "      <td>0.093490</td>\n",
       "      <td>0.141712</td>\n",
       "      <td>...</td>\n",
       "      <td>-0.027600</td>\n",
       "      <td>0.066876</td>\n",
       "      <td>0.001260</td>\n",
       "      <td>0.086747</td>\n",
       "      <td>-0.029563</td>\n",
       "      <td>0.010178</td>\n",
       "      <td>0.189941</td>\n",
       "      <td>0.028910</td>\n",
       "      <td>8840</td>\n",
       "      <td>8840</td>\n",
       "    </tr>\n",
       "    <tr>\n",
       "      <th>3</th>\n",
       "      <td>Cam_Dyer</td>\n",
       "      <td>https://www.linkedin.com/in/cam-dyer-163066138/</td>\n",
       "      <td>-0.029888</td>\n",
       "      <td>0.044159</td>\n",
       "      <td>0.030513</td>\n",
       "      <td>-0.001062</td>\n",
       "      <td>-0.029903</td>\n",
       "      <td>-0.050779</td>\n",
       "      <td>-0.012312</td>\n",
       "      <td>0.079466</td>\n",
       "      <td>...</td>\n",
       "      <td>-0.087076</td>\n",
       "      <td>0.128158</td>\n",
       "      <td>0.130298</td>\n",
       "      <td>-0.174629</td>\n",
       "      <td>0.193243</td>\n",
       "      <td>-0.075953</td>\n",
       "      <td>0.098921</td>\n",
       "      <td>0.012646</td>\n",
       "      <td>8319</td>\n",
       "      <td>8319</td>\n",
       "    </tr>\n",
       "    <tr>\n",
       "      <th>4</th>\n",
       "      <td>Dalton_Shaughnessy</td>\n",
       "      <td>https://www.linkedin.com/in/dalton-shaughnessy...</td>\n",
       "      <td>0.072567</td>\n",
       "      <td>0.104197</td>\n",
       "      <td>0.026666</td>\n",
       "      <td>0.041744</td>\n",
       "      <td>-0.033023</td>\n",
       "      <td>-0.055811</td>\n",
       "      <td>-0.135686</td>\n",
       "      <td>0.091173</td>\n",
       "      <td>...</td>\n",
       "      <td>0.172063</td>\n",
       "      <td>0.006497</td>\n",
       "      <td>0.014969</td>\n",
       "      <td>-0.116085</td>\n",
       "      <td>0.002469</td>\n",
       "      <td>0.050177</td>\n",
       "      <td>0.137021</td>\n",
       "      <td>-0.019638</td>\n",
       "      <td>2534</td>\n",
       "      <td>2534</td>\n",
       "    </tr>\n",
       "  </tbody>\n",
       "</table>\n",
       "<p>5 rows × 132 columns</p>\n",
       "</div>"
      ],
      "text/plain": [
       "                 name                                                url  \\\n",
       "0      Arne_Klubberud  https://www.linkedin.com/in/arne-klubberud-665...   \n",
       "1          Blas_Yslas    https://www.linkedin.com/in/blas-yslas-a53373b/   \n",
       "2       Brooke_Coburn  https://www.linkedin.com/in/brooke-coburn-0886...   \n",
       "3            Cam_Dyer    https://www.linkedin.com/in/cam-dyer-163066138/   \n",
       "4  Dalton_Shaughnessy  https://www.linkedin.com/in/dalton-shaughnessy...   \n",
       "\n",
       "          0         1         2         3         4         5         6  \\\n",
       "0  0.070484 -0.041177  0.069168  0.076272  0.137468  0.052626  0.024314   \n",
       "1 -0.104493  0.048320 -0.071764  0.035950  0.001496  0.114856 -0.115042   \n",
       "2  0.019926 -0.235171 -0.007148  0.153370 -0.057668 -0.109835  0.093490   \n",
       "3 -0.029888  0.044159  0.030513 -0.001062 -0.029903 -0.050779 -0.012312   \n",
       "4  0.072567  0.104197  0.026666  0.041744 -0.033023 -0.055811 -0.135686   \n",
       "\n",
       "          7  ...        120       121       122       123       124       125  \\\n",
       "0  0.100133  ...  -0.028250  0.141832 -0.183499  0.042752  0.033140 -0.054842   \n",
       "1  0.052725  ...   0.002123  0.042748  0.006790 -0.083624 -0.080102  0.064649   \n",
       "2  0.141712  ...  -0.027600  0.066876  0.001260  0.086747 -0.029563  0.010178   \n",
       "3  0.079466  ...  -0.087076  0.128158  0.130298 -0.174629  0.193243 -0.075953   \n",
       "4  0.091173  ...   0.172063  0.006497  0.014969 -0.116085  0.002469  0.050177   \n",
       "\n",
       "        126       127  pins   pin  \n",
       "0 -0.080211 -0.045614  6397  6397  \n",
       "1 -0.017459  0.050484  3350  3350  \n",
       "2  0.189941  0.028910  8840  8840  \n",
       "3  0.098921  0.012646  8319  8319  \n",
       "4  0.137021 -0.019638  2534  2534  \n",
       "\n",
       "[5 rows x 132 columns]"
      ]
     },
     "execution_count": 27,
     "metadata": {},
     "output_type": "execute_result"
    }
   ],
   "source": [
    "df.head()"
   ]
  },
  {
   "cell_type": "code",
   "execution_count": 47,
   "metadata": {
    "collapsed": false
   },
   "outputs": [],
   "source": [
    "df_new = df[[\"name\", \"url\", \"pin\"]]\n",
    "df_new = pd.concat([df_new, df.drop([\"name\", \"url\", \"pin\",\"pins\"], axis=1)], axis=1)\n",
    "df_new2 = pd.concat([df_new, df2.drop([\"name\", \"url\", \"pin\",\"pins\"], axis=1)], axis=1)\n"
   ]
  },
  {
   "cell_type": "code",
   "execution_count": 46,
   "metadata": {
    "collapsed": false
   },
   "outputs": [],
   "source": [
    "df_new.to_csv(\"reference_table-128.csv\", index=False)"
   ]
  },
  {
   "cell_type": "code",
   "execution_count": 49,
   "metadata": {
    "collapsed": true
   },
   "outputs": [],
   "source": [
    "df_new2.to_csv(\"reference_table-256.csv\", index=False)"
   ]
  },
  {
   "cell_type": "code",
   "execution_count": 50,
   "metadata": {
    "collapsed": true
   },
   "outputs": [],
   "source": [
    "df = df_new"
   ]
  },
  {
   "cell_type": "code",
   "execution_count": 55,
   "metadata": {
    "collapsed": false
   },
   "outputs": [
    {
     "name": "stdout",
     "output_type": "stream",
     "text": [
      "Arne Klubberud\n",
      "https://www.linkedin.com/in/arne-klubberud-6658071/\n",
      "6397\n",
      "Blas Yslas\n",
      "https://www.linkedin.com/in/blas-yslas-a53373b/\n",
      "3350\n",
      "Brooke Coburn\n",
      "https://www.linkedin.com/in/brooke-coburn-08865968/\n",
      "8840\n",
      "Cam Dyer\n",
      "https://www.linkedin.com/in/cam-dyer-163066138/\n",
      "8319\n",
      "Dalton Shaughnessy\n",
      "https://www.linkedin.com/in/dalton-shaughnessy-74a49b21/\n",
      "2534\n"
     ]
    }
   ],
   "source": [
    "for row in df.head().iterrows():\n",
    "    print row[1][0].replace('_', ' ')\n",
    "    print row[1][1]\n",
    "    print row[1][2]"
   ]
  },
  {
   "cell_type": "code",
   "execution_count": 56,
   "metadata": {
    "collapsed": true
   },
   "outputs": [],
   "source": [
    "from scipy.spatial.distance import euclidean\n",
    "\n",
    "def get_distances(img_vector, vectors):\n",
    "    return np.apply_along_axis(euclidean, 1, vectors, img_vector)"
   ]
  },
  {
   "cell_type": "code",
   "execution_count": 59,
   "metadata": {
    "collapsed": true
   },
   "outputs": [],
   "source": [
    "v1 = np.array([-0.10449281,  0.04832045, -0.071763])\n",
    "v2 = np.array([0.07587371,  0.04368477,  0.08936375])"
   ]
  },
  {
   "cell_type": "code",
   "execution_count": 62,
   "metadata": {
    "collapsed": false
   },
   "outputs": [
    {
     "data": {
      "text/plain": [
       "array([ 0.24189957])"
      ]
     },
     "execution_count": 62,
     "metadata": {},
     "output_type": "execute_result"
    }
   ],
   "source": [
    "get_distances(v1.reshape(1, 3), v2.reshape(1, 3))"
   ]
  },
  {
   "cell_type": "code",
   "execution_count": 63,
   "metadata": {
    "collapsed": false
   },
   "outputs": [
    {
     "ename": "NameError",
     "evalue": "name 'collection' is not defined",
     "output_type": "error",
     "traceback": [
      "\u001b[0;31m---------------------------------------------------------------------------\u001b[0m",
      "\u001b[0;31mNameError\u001b[0m                                 Traceback (most recent call last)",
      "\u001b[0;32m<ipython-input-63-7bf3ab843024>\u001b[0m in \u001b[0;36m<module>\u001b[0;34m()\u001b[0m\n\u001b[0;32m----> 1\u001b[0;31m \u001b[0mc\u001b[0m \u001b[0;34m=\u001b[0m \u001b[0mcollection\u001b[0m\u001b[0;34m.\u001b[0m\u001b[0mfind\u001b[0m\u001b[0;34m(\u001b[0m\u001b[0;34m{\u001b[0m\u001b[0;34m}\u001b[0m\u001b[0;34m)\u001b[0m\u001b[0;34m\u001b[0m\u001b[0m\n\u001b[0m",
      "\u001b[0;31mNameError\u001b[0m: name 'collection' is not defined"
     ]
    }
   ],
   "source": [
    "c = collection.find({})"
   ]
  },
  {
   "cell_type": "code",
   "execution_count": 64,
   "metadata": {
    "collapsed": true
   },
   "outputs": [],
   "source": [
    "global SESSION_NAME\n",
    "SESSION_NAME = None"
   ]
  },
  {
   "cell_type": "code",
   "execution_count": 66,
   "metadata": {
    "collapsed": true
   },
   "outputs": [],
   "source": [
    "names = ['alice', 'bob']"
   ]
  },
  {
   "cell_type": "code",
   "execution_count": 67,
   "metadata": {
    "collapsed": true
   },
   "outputs": [],
   "source": [
    "identified_name = 'bob'"
   ]
  },
  {
   "cell_type": "code",
   "execution_count": 68,
   "metadata": {
    "collapsed": true
   },
   "outputs": [],
   "source": [
    "SESSION_NAME = identified_name"
   ]
  },
  {
   "cell_type": "code",
   "execution_count": 69,
   "metadata": {
    "collapsed": false
   },
   "outputs": [
    {
     "data": {
      "text/plain": [
       "'bob'"
      ]
     },
     "execution_count": 69,
     "metadata": {},
     "output_type": "execute_result"
    }
   ],
   "source": [
    "SESSION_NAME"
   ]
  },
  {
   "cell_type": "code",
   "execution_count": 70,
   "metadata": {
    "collapsed": false
   },
   "outputs": [
    {
     "name": "stdout",
     "output_type": "stream",
     "text": [
      "green\n"
     ]
    }
   ],
   "source": [
    "for name in names:\n",
    "    if name == SESSION_NAME:\n",
    "        print \"green\""
   ]
  },
  {
   "cell_type": "code",
   "execution_count": null,
   "metadata": {
    "collapsed": true
   },
   "outputs": [],
   "source": []
  }
 ],
 "metadata": {
  "kernelspec": {
   "display_name": "Python [Root]",
   "language": "python",
   "name": "Python [Root]"
  },
  "language_info": {
   "codemirror_mode": {
    "name": "ipython",
    "version": 2
   },
   "file_extension": ".py",
   "mimetype": "text/x-python",
   "name": "python",
   "nbconvert_exporter": "python",
   "pygments_lexer": "ipython2",
   "version": "2.7.12"
  }
 },
 "nbformat": 4,
 "nbformat_minor": 0
}
