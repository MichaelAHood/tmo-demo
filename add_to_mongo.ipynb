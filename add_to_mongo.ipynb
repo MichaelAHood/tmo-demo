{
 "cells": [
  {
   "cell_type": "code",
   "execution_count": 1,
   "metadata": {
    "collapsed": false
   },
   "outputs": [
    {
     "name": "stdout",
     "output_type": "stream",
     "text": [
      "\u001b[31mREADME.md\u001b[m\u001b[m*                \u001b[31mhelpers.py\u001b[m\u001b[m*               pk_mxnet_face.pyc\r\n",
      "Untitled.ipynb            helpers.pyc               reference_table.csv\r\n",
      "\u001b[1m\u001b[36malign\u001b[m\u001b[m/                    lightened_cnn.py          requirements.txt\r\n",
      "\u001b[1m\u001b[36mcompression\u001b[m\u001b[m/              lightened_cnn.pyc         \u001b[31msetup-mongodb.py\u001b[m\u001b[m*\r\n",
      "custom_timer.py           \u001b[31mmain.py\u001b[m\u001b[m*                  \u001b[1m\u001b[36mtemplates\u001b[m\u001b[m/\r\n",
      "custom_timer.pyc          \u001b[1m\u001b[36mmodel\u001b[m\u001b[m/                    \u001b[31mtest-opencv-facenet.py\u001b[m\u001b[m*\r\n",
      "\u001b[1m\u001b[36mdashboard\u001b[m\u001b[m/                my_pic.jpg                update_db.py\r\n",
      "\u001b[31mface_parser.py\u001b[m\u001b[m*           \u001b[31mpk_facenet.py\u001b[m\u001b[m*            video_frame\r\n",
      "face_parser.pyc           pk_facenet.pyc            video_frame.1\r\n",
      "\u001b[31mfacenet.py\u001b[m\u001b[m*               pk_facenet_service.py     video_frame.2\r\n",
      "facenet.pyc               pk_facenet_service.pyc    video_frame.3\r\n",
      "\u001b[31mflask-image-detection.py\u001b[m\u001b[m* pk_mxnet_face.py\r\n"
     ]
    }
   ],
   "source": [
    "ls"
   ]
  },
  {
   "cell_type": "code",
   "execution_count": 1,
   "metadata": {
    "collapsed": true
   },
   "outputs": [],
   "source": [
    "from face_parser import FaceParser\n",
    "from pk_mxnet_face import pkMXNetFace\n",
    "from pymongo import MongoClient\n",
    "import cv2"
   ]
  },
  {
   "cell_type": "code",
   "execution_count": 22,
   "metadata": {
    "collapsed": false
   },
   "outputs": [
    {
     "name": "stdout",
     "output_type": "stream",
     "text": [
      "Creating networks and loading parameters\n",
      "FaceDetection Model loaded!\n"
     ]
    }
   ],
   "source": [
    "fp = FaceParser()\n",
    "fp.load_model(margin=16, image_size=128)"
   ]
  },
  {
   "cell_type": "code",
   "execution_count": 25,
   "metadata": {
    "collapsed": false
   },
   "outputs": [
    {
     "name": "stdout",
     "output_type": "stream",
     "text": [
      "MXNet-Face loaded.\n"
     ]
    }
   ],
   "source": [
    "mxface = pkMXNetFace()\n",
    "mxface.load_model()"
   ]
  },
  {
   "cell_type": "code",
   "execution_count": 28,
   "metadata": {
    "collapsed": true
   },
   "outputs": [],
   "source": [
    "img = cv2.imread(\"../../../experiments/carlyle/images/reference/raw/Michael_Hood/Michael_Hood.jpg\")\n",
    "bbs = fp.find_faces(img)\n",
    "face = fp.extract_faces(img, bbs)\n",
    "vec = mxface.vectorize(face)"
   ]
  },
  {
   "cell_type": "code",
   "execution_count": 29,
   "metadata": {
    "collapsed": true
   },
   "outputs": [],
   "source": [
    "img2 = cv2.imread(\"../../../experiments/carlyle/images/reference/raw/Michael_Hood/Michael_Hood_2.jpg\")\n",
    "bbs2 = fp.find_faces(img2)\n",
    "face2 = fp.extract_faces(img2, bbs2)\n",
    "vec2 = mxface.vectorize(face2)"
   ]
  },
  {
   "cell_type": "code",
   "execution_count": 30,
   "metadata": {
    "collapsed": true
   },
   "outputs": [],
   "source": [
    "img3 = cv2.imread(\"../../../experiments/carlyle/images/reference/raw/Michael_Hood/Michael_Hood_3.jpg\")\n",
    "bbs3 = fp.find_faces(img3)\n",
    "face3 = fp.extract_faces(img3, bbs3)\n",
    "vec3 = mxface.vectorize(face3)"
   ]
  },
  {
   "cell_type": "code",
   "execution_count": 31,
   "metadata": {
    "collapsed": true
   },
   "outputs": [],
   "source": [
    "from scipy.spatial.distance import euclidean"
   ]
  },
  {
   "cell_type": "code",
   "execution_count": 34,
   "metadata": {
    "collapsed": false
   },
   "outputs": [
    {
     "name": "stdout",
     "output_type": "stream",
     "text": [
      "19.9664402008\n",
      "17.8709545135\n",
      "20.6829090118\n"
     ]
    }
   ],
   "source": [
    "print euclidean(vec, vec2)\n",
    "print euclidean(vec, vec3)\n",
    "print euclidean(vec2, vec3)"
   ]
  },
  {
   "cell_type": "code",
   "execution_count": 39,
   "metadata": {
    "collapsed": true
   },
   "outputs": [],
   "source": [
    "db = MongoClient().test"
   ]
  },
  {
   "cell_type": "code",
   "execution_count": 51,
   "metadata": {
    "collapsed": true
   },
   "outputs": [],
   "source": [
    "doc = {\"name\": \"Michael Hood\",\n",
    "       \"vector\": vec2[0].tolist()}"
   ]
  },
  {
   "cell_type": "code",
   "execution_count": 52,
   "metadata": {
    "collapsed": false
   },
   "outputs": [
    {
     "data": {
      "text/plain": [
       "<pymongo.results.InsertOneResult at 0x13079feb0>"
      ]
     },
     "execution_count": 52,
     "metadata": {},
     "output_type": "execute_result"
    }
   ],
   "source": [
    "db.mxnet.insert_one(doc)"
   ]
  },
  {
   "cell_type": "code",
   "execution_count": 53,
   "metadata": {
    "collapsed": true
   },
   "outputs": [],
   "source": [
    "cursor = db.mxnet.find()"
   ]
  },
  {
   "cell_type": "code",
   "execution_count": 54,
   "metadata": {
    "collapsed": true
   },
   "outputs": [],
   "source": [
    "docs = [doc for doc in cursor]"
   ]
  },
  {
   "cell_type": "markdown",
   "metadata": {
    "collapsed": true
   },
   "source": [
    "## Add PIN numbers and account numbers to reference-tables"
   ]
  },
  {
   "cell_type": "code",
   "execution_count": 4,
   "metadata": {
    "collapsed": true
   },
   "outputs": [],
   "source": [
    "import pandas as pd\n",
    "import numpy as np"
   ]
  },
  {
   "cell_type": "code",
   "execution_count": 2,
   "metadata": {
    "collapsed": true
   },
   "outputs": [],
   "source": [
    "df = pd.read_csv(\"reference_table-128.csv\")"
   ]
  },
  {
   "cell_type": "code",
   "execution_count": 5,
   "metadata": {
    "collapsed": false
   },
   "outputs": [
    {
     "data": {
      "text/plain": [
       "array([7871, 5567, 3663, 9882, 3323, 6240, 8911, 6150, 9825, 2496, 4855,\n",
       "       4919, 2433, 7297, 1715, 2880, 2422, 3172, 6086, 9778, 2450, 8546,\n",
       "       7186, 2794])"
      ]
     },
     "execution_count": 5,
     "metadata": {},
     "output_type": "execute_result"
    }
   ],
   "source": [
    "pins = np.random.randint(1000, 9999, size=(len(df)))"
   ]
  },
  {
   "cell_type": "code",
   "execution_count": 2,
   "metadata": {
    "collapsed": false
   },
   "outputs": [
    {
     "data": {
      "text/plain": [
       "<pymongo.results.UpdateResult at 0x12d778eb0>"
      ]
     },
     "execution_count": 2,
     "metadata": {},
     "output_type": "execute_result"
    }
   ],
   "source": [
    "from pymongo import MongoClient\n",
    "DB_HOST = \"mongodb://127.0.0.1:27017\"\n",
    "DB_NAME = \"test\"\n",
    "COLLECTION_NAME = \"face\"\n",
    "collection = MongoClient(DB_HOST)[DB_NAME][COLLECTION_NAME]\n",
    "collection.update_many({\"name\":\"Michael Hood\"}, {\"$set\": {\"pin\":5110}}, upsert=True)  "
   ]
  },
  {
   "cell_type": "code",
   "execution_count": 3,
   "metadata": {
    "collapsed": false
   },
   "outputs": [],
   "source": [
    "res = collection.find( { \"pin\": 5110 } )"
   ]
  },
  {
   "cell_type": "code",
   "execution_count": 4,
   "metadata": {
    "collapsed": false
   },
   "outputs": [
    {
     "data": {
      "text/plain": [
       "{u'_id': ObjectId('5940587370823624da284434'),\n",
       " u'name': u'Michael Hood',\n",
       " u'pin': 5110}"
      ]
     },
     "execution_count": 4,
     "metadata": {},
     "output_type": "execute_result"
    }
   ],
   "source": [
    "list(res)[0]"
   ]
  },
  {
   "cell_type": "code",
   "execution_count": 22,
   "metadata": {
    "collapsed": false
   },
   "outputs": [
    {
     "data": {
      "text/plain": [
       "<pymongo.results.UpdateResult at 0x114338eb0>"
      ]
     },
     "execution_count": 22,
     "metadata": {},
     "output_type": "execute_result"
    }
   ],
   "source": [
    "collection.update_many({\"name\":\"Michael Hood\"}, {\"$set\": {\"pin\":5110}}, upsert=True)    "
   ]
  },
  {
   "cell_type": "code",
   "execution_count": 25,
   "metadata": {
    "collapsed": false
   },
   "outputs": [
    {
     "data": {
      "text/plain": [
       "[{u'_id': ObjectId('5935bafbd04c06034836625c'),\n",
       "  u'email': u'none',\n",
       "  u'linked_in': u'none',\n",
       "  u'name': u'Michael Hood',\n",
       "  u'organization': None,\n",
       "  u'pin': 5110,\n",
       "  u'vector': [0.1031671091914177,\n",
       "   -0.028613248839974403,\n",
       "   0.1108316034078598,\n",
       "   0.06485278904438019,\n",
       "   0.05526493862271309,\n",
       "   0.14200066030025482,\n",
       "   -0.19917826354503632,\n",
       "   0.14303983747959137,\n",
       "   -0.21385593712329865,\n",
       "   0.013472066260874271,\n",
       "   -0.042551182210445404,\n",
       "   -0.006759194657206535,\n",
       "   0.046440284699201584,\n",
       "   -0.09483389556407928,\n",
       "   -0.03373162820935249,\n",
       "   0.010496111586689949,\n",
       "   -0.06376820057630539,\n",
       "   -0.13416476547718048,\n",
       "   0.04043357074260712,\n",
       "   -0.04383652284741402,\n",
       "   -0.06099410727620125,\n",
       "   -0.025606511160731316,\n",
       "   -0.05950767546892166,\n",
       "   -0.08797549456357956,\n",
       "   0.0488014779984951,\n",
       "   -0.0671938881278038,\n",
       "   0.011717347428202629,\n",
       "   -0.011409418657422066,\n",
       "   0.00667304452508688,\n",
       "   -0.0744490996003151,\n",
       "   -0.05589674785733223,\n",
       "   -0.0011206528870388865,\n",
       "   0.00955867487937212,\n",
       "   0.07509061694145203,\n",
       "   -0.006026964168995619,\n",
       "   0.039174698293209076,\n",
       "   0.005772984586656094,\n",
       "   0.04928583279252052,\n",
       "   -0.05140860006213188,\n",
       "   0.0222559105604887,\n",
       "   -0.08691748231649399,\n",
       "   -0.14590440690517426,\n",
       "   0.008154483512043953,\n",
       "   0.11389955878257751,\n",
       "   -0.1875694841146469,\n",
       "   0.06985088437795639,\n",
       "   0.0936635285615921,\n",
       "   0.08108123391866684,\n",
       "   -0.03155457228422165,\n",
       "   0.05385094881057739,\n",
       "   -0.017858706414699554,\n",
       "   0.012402712367475033,\n",
       "   -0.043677862733602524,\n",
       "   0.025618793442845345,\n",
       "   0.1008366122841835,\n",
       "   -0.22029410302639008,\n",
       "   0.11449277400970459,\n",
       "   -0.051573485136032104,\n",
       "   -0.024397727102041245,\n",
       "   -0.0721626877784729,\n",
       "   -0.046744197607040405,\n",
       "   0.032565657049417496,\n",
       "   -0.06649857759475708,\n",
       "   -0.08158699423074722,\n",
       "   0.17667660117149353,\n",
       "   -0.006035241298377514,\n",
       "   -0.01474282331764698,\n",
       "   0.015753164887428284,\n",
       "   0.00332719087600708,\n",
       "   0.24125662446022034,\n",
       "   -0.06539429724216461,\n",
       "   0.06958190351724625,\n",
       "   0.07314330339431763,\n",
       "   -0.017158476635813713,\n",
       "   0.0447358563542366,\n",
       "   -0.13047701120376587,\n",
       "   -0.036030322313308716,\n",
       "   0.0881224274635315,\n",
       "   -0.173202782869339,\n",
       "   -0.07406681030988693,\n",
       "   0.030897127464413643,\n",
       "   0.1285625547170639,\n",
       "   0.023502640426158905,\n",
       "   -0.017951492220163345,\n",
       "   -0.05737807974219322,\n",
       "   0.0375593900680542,\n",
       "   -0.11367648839950562,\n",
       "   -0.1277661770582199,\n",
       "   -0.04927672818303108,\n",
       "   0.054163187742233276,\n",
       "   -0.02432120218873024,\n",
       "   0.08090761303901672,\n",
       "   -0.16426265239715576,\n",
       "   -0.041136354207992554,\n",
       "   -0.15412567555904388,\n",
       "   0.19059933722019196,\n",
       "   0.011958500370383263,\n",
       "   0.06694093346595764,\n",
       "   -0.11084557324647903,\n",
       "   0.05290748178958893,\n",
       "   -0.04735991731286049,\n",
       "   -0.03516434133052826,\n",
       "   -0.12749579548835754,\n",
       "   0.06485511362552643,\n",
       "   -0.16766121983528137,\n",
       "   -0.09223733097314835,\n",
       "   -0.06928682327270508,\n",
       "   0.00443064421415329,\n",
       "   0.06401228159666061,\n",
       "   -0.07939761877059937,\n",
       "   -0.010450178757309914,\n",
       "   0.0401863157749176,\n",
       "   -0.013045878149569035,\n",
       "   0.06466895341873169,\n",
       "   -0.15141983330249786,\n",
       "   0.11106272786855698,\n",
       "   -0.12764891982078552,\n",
       "   -0.02175826020538807,\n",
       "   -0.03949344530701637,\n",
       "   -0.017505358904600143,\n",
       "   -0.08792197704315186,\n",
       "   0.1409468948841095,\n",
       "   0.003225981956347823,\n",
       "   0.045772112905979156,\n",
       "   -0.12121500819921494,\n",
       "   -0.08040110021829605,\n",
       "   -0.0019903830252587795,\n",
       "   -0.17746171355247498]}]"
      ]
     },
     "execution_count": 25,
     "metadata": {},
     "output_type": "execute_result"
    }
   ],
   "source": [
    "list(res)"
   ]
  },
  {
   "cell_type": "code",
   "execution_count": 5,
   "metadata": {
    "collapsed": true
   },
   "outputs": [],
   "source": [
    "status = 0.9 < 1"
   ]
  },
  {
   "cell_type": "code",
   "execution_count": 6,
   "metadata": {
    "collapsed": false
   },
   "outputs": [
    {
     "data": {
      "text/plain": [
       "True"
      ]
     },
     "execution_count": 6,
     "metadata": {},
     "output_type": "execute_result"
    }
   ],
   "source": [
    "status"
   ]
  },
  {
   "cell_type": "code",
   "execution_count": 7,
   "metadata": {
    "collapsed": true
   },
   "outputs": [],
   "source": [
    "res = 1 == 1"
   ]
  },
  {
   "cell_type": "code",
   "execution_count": 8,
   "metadata": {
    "collapsed": false
   },
   "outputs": [
    {
     "data": {
      "text/plain": [
       "True"
      ]
     },
     "execution_count": 8,
     "metadata": {},
     "output_type": "execute_result"
    }
   ],
   "source": [
    "res"
   ]
  },
  {
   "cell_type": "code",
   "execution_count": 12,
   "metadata": {
    "collapsed": false
   },
   "outputs": [],
   "source": [
    "docs = list(collection.find({\"name\": \"Michael Hood\"}))"
   ]
  },
  {
   "cell_type": "code",
   "execution_count": 13,
   "metadata": {
    "collapsed": false
   },
   "outputs": [
    {
     "data": {
      "text/plain": [
       "[{u'_id': ObjectId('59406275b39863f3cf7cdf73'),\n",
       "  u'linked_in': u'https://www.linkedin.com/in/michaelahood/',\n",
       "  u'name': u'Michael Hood',\n",
       "  u'pin': 5110,\n",
       "  u'vector': [0.104484006763,\n",
       "   0.0321502275765,\n",
       "   0.0437822379172,\n",
       "   0.0663757398725,\n",
       "   0.0540776513517,\n",
       "   0.138499483466,\n",
       "   -0.22143763303800001,\n",
       "   0.114826545119,\n",
       "   -0.179206550121,\n",
       "   -0.00814246293157,\n",
       "   -0.017376447096500002,\n",
       "   -0.0684309974313,\n",
       "   0.0854770392179,\n",
       "   -0.0628503412008,\n",
       "   -0.08395747840399999,\n",
       "   0.0155120817944,\n",
       "   -0.00888431165367,\n",
       "   -0.169541850686,\n",
       "   0.10024831444,\n",
       "   -0.0467410832644,\n",
       "   -0.0744545310736,\n",
       "   -0.00595988472924,\n",
       "   -0.0071723787114,\n",
       "   -0.09031306207180001,\n",
       "   -0.00108459102921,\n",
       "   -0.142349854112,\n",
       "   -0.0038564871065300006,\n",
       "   -0.09098919481039999,\n",
       "   0.10861960053400001,\n",
       "   -0.0374053493142,\n",
       "   0.00780662661418,\n",
       "   0.000110850720375,\n",
       "   0.0507858619094,\n",
       "   0.119552135468,\n",
       "   -0.053028658032400006,\n",
       "   0.104675784707,\n",
       "   -0.016403708607000002,\n",
       "   0.0454154200852,\n",
       "   -0.0365453325212,\n",
       "   0.0258863698691,\n",
       "   -0.102062106133,\n",
       "   -0.121243000031,\n",
       "   -0.0181936062872,\n",
       "   0.0550079718232,\n",
       "   -0.161236315966,\n",
       "   0.0733809545636,\n",
       "   0.11052338779000001,\n",
       "   0.14790417254000002,\n",
       "   -0.0598603971303,\n",
       "   0.042001541703900004,\n",
       "   -0.0274156965315,\n",
       "   -0.0521354451776,\n",
       "   -0.00557872233912,\n",
       "   0.0157798007131,\n",
       "   0.123001866043,\n",
       "   -0.14073173701799999,\n",
       "   0.121018663049,\n",
       "   0.0289527624846,\n",
       "   -0.008202299475670001,\n",
       "   -0.06142351776359999,\n",
       "   0.00296804611571,\n",
       "   0.037761930376300004,\n",
       "   -0.10873869806500001,\n",
       "   -0.042423669248800006,\n",
       "   0.16343964636299999,\n",
       "   0.0255806837231,\n",
       "   -0.056717816740300006,\n",
       "   -0.029545670375200003,\n",
       "   0.077392488718,\n",
       "   0.152490153909,\n",
       "   -0.058934237808,\n",
       "   0.134760692716,\n",
       "   0.08622501045469999,\n",
       "   0.014430361799899998,\n",
       "   0.14164423942600002,\n",
       "   -0.0902576595545,\n",
       "   -0.018678838387099998,\n",
       "   0.171300157905,\n",
       "   -0.182745486498,\n",
       "   -0.0859531611204,\n",
       "   0.0507090501487,\n",
       "   0.11948174238199999,\n",
       "   -0.04206271842119999,\n",
       "   0.015841986984000002,\n",
       "   -0.07970674335960001,\n",
       "   0.028503114357599998,\n",
       "   -0.18802265822900002,\n",
       "   -0.125292927027,\n",
       "   -0.0462703816593,\n",
       "   0.0723902955651,\n",
       "   -0.00463182665408,\n",
       "   0.071907132864,\n",
       "   -0.134561985731,\n",
       "   -0.012370157055600002,\n",
       "   -0.08175639063120001,\n",
       "   0.219041362405,\n",
       "   -0.0500194951892,\n",
       "   0.118134073913,\n",
       "   -0.06330551952119999,\n",
       "   0.053287684917400005,\n",
       "   -0.0208681616932,\n",
       "   -0.0282036066055,\n",
       "   -0.09256996214389998,\n",
       "   -0.049536764621699994,\n",
       "   -0.197724714875,\n",
       "   -0.034059692174200004,\n",
       "   -0.0415115654469,\n",
       "   -0.012234326451999998,\n",
       "   0.10704401135399999,\n",
       "   -0.129362806678,\n",
       "   -0.027628749608999997,\n",
       "   -0.011023675091600002,\n",
       "   0.0128336539492,\n",
       "   0.0776923298836,\n",
       "   -0.11480296403200001,\n",
       "   0.155261993408,\n",
       "   -0.047310572117599994,\n",
       "   -0.0246703717858,\n",
       "   -0.0449465923011,\n",
       "   -0.036055590957400005,\n",
       "   -0.00210552173667,\n",
       "   0.121577732265,\n",
       "   -0.0509387366474,\n",
       "   0.024652341380699997,\n",
       "   -0.04393250867719999,\n",
       "   -0.0550605878234,\n",
       "   0.0132662449032,\n",
       "   -0.08306747674939999]}]"
      ]
     },
     "execution_count": 13,
     "metadata": {},
     "output_type": "execute_result"
    }
   ],
   "source": [
    "docs"
   ]
  },
  {
   "cell_type": "code",
   "execution_count": null,
   "metadata": {
    "collapsed": true
   },
   "outputs": [],
   "source": []
  }
 ],
 "metadata": {
  "anaconda-cloud": {},
  "kernelspec": {
   "display_name": "Python [Root]",
   "language": "python",
   "name": "Python [Root]"
  },
  "language_info": {
   "codemirror_mode": {
    "name": "ipython",
    "version": 2
   },
   "file_extension": ".py",
   "mimetype": "text/x-python",
   "name": "python",
   "nbconvert_exporter": "python",
   "pygments_lexer": "ipython2",
   "version": "2.7.12"
  }
 },
 "nbformat": 4,
 "nbformat_minor": 0
}
